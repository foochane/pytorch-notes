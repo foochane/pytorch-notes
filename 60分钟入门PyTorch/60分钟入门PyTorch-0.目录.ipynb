{
 "cells": [
  {
   "cell_type": "markdown",
   "metadata": {},
   "source": [
    "# 60分钟入门深度学习工具-PyTorch(目录)"
   ]
  },
  {
   "cell_type": "markdown",
   "metadata": {},
   "source": [
    "原文：https://pytorch.org/tutorials/beginner/deep_learning_60min_blitz.html"
   ]
  },
  {
   "cell_type": "markdown",
   "metadata": {},
   "source": [
    "## 本教程的目标：\n",
    "\n",
    "* 在高层次上理解PyTorch的张量(Tensor)库和神经网络\n",
    "* 训练一个小型神经网络对图像进行分类\n",
    "* 本教程假设您对numpy有基本的了解\n",
    "\n",
    "**注意**： 务必确认您已经安装了 torch 和 torchvision 两个包。"
   ]
  }
 ],
 "metadata": {
  "kernelspec": {
   "display_name": "Python 3",
   "language": "python",
   "name": "python3"
  },
  "language_info": {
   "codemirror_mode": {
    "name": "ipython",
    "version": 3
   },
   "file_extension": ".py",
   "mimetype": "text/x-python",
   "name": "python",
   "nbconvert_exporter": "python",
   "pygments_lexer": "ipython3",
   "version": "3.7.9"
  }
 },
 "nbformat": 4,
 "nbformat_minor": 2
}
